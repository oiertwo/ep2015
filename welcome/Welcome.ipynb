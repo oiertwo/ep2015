{
 "metadata": {
  "celltoolbar": "Slideshow",
  "name": "",
  "signature": "sha256:611518ac6a3a318bd63d64c6e772a372ce085ec8a1f1729cd2b7525378cbca48"
 },
 "nbformat": 3,
 "nbformat_minor": 0,
 "worksheets": [
  {
   "cells": [
    {
     "cell_type": "markdown",
     "metadata": {
      "slideshow": {
       "slide_type": "slide"
      }
     },
     "source": [
      "#Welcome to Bilbao\n",
      "    -Introduction? Hi im Fabio, this is Oier?\n",
      "\n"
     ]
    },
    {
     "cell_type": "markdown",
     "metadata": {
      "slideshow": {
       "slide_type": "slide"
      }
     },
     "source": [
      "#Attendees evolution\n",
      "    - Graph\n"
     ]
    },
    {
     "cell_type": "markdown",
     "metadata": {
      "slideshow": {
       "slide_type": "slide"
      }
     },
     "source": [
      "#Wifi information\n",
      "    - Password and SSID: europython2015\n",
      "    - If problem\n"
     ]
    },
    {
     "cell_type": "markdown",
     "metadata": {
      "slideshow": {
       "slide_type": "slide"
      }
     },
     "source": [
      "#Code of conduct\n",
      "    - Available online, \n",
      "    - Not tolerate\n",
      "    - Behave properly\n",
      "    - Enjoy the conference\n"
     ]
    },
    {
     "cell_type": "markdown",
     "metadata": {
      "slideshow": {
       "slide_type": "slide"
      }
     },
     "source": [
      "#Badges\n",
      "    - Check the bags, is everything inside?\n",
      "    - Booklet, flyer, t-shirt, present\u2026 \n",
      "    - wrong t-shirt size you can switch it?\n"
     ]
    },
    {
     "cell_type": "markdown",
     "metadata": {
      "slideshow": {
       "slide_type": "slide"
      }
     },
     "source": [
      "#Schedule\n",
      "    - Check the schedule\n",
      "    - Talks\n",
      "        - 5 Parallel tracks\n",
      "    - Trainings\n",
      "        - No signing, first come first serve\n",
      "        - Big rooms\n",
      "    - Keynotes\n",
      "        - Present keynoters?\n",
      "    - Lightning talks\n",
      "        - Google room\n",
      "    - Poster session\n",
      "\n"
     ]
    },
    {
     "cell_type": "markdown",
     "metadata": {
      "slideshow": {
       "slide_type": "slide"
      }
     },
     "source": [
      "#Lunch and coffee breaks areas\n"
     ]
    },
    {
     "cell_type": "markdown",
     "metadata": {
      "slideshow": {
       "slide_type": "slide"
      }
     },
     "source": [
      "#We are recording\n",
      "    - Livestreaming?...\n",
      "    - Releasing the videos ASAP\n"
     ]
    },
    {
     "cell_type": "markdown",
     "metadata": {
      "slideshow": {
       "slide_type": "slide"
      }
     },
     "source": [
      "#Social event\n"
     ]
    },
    {
     "cell_type": "markdown",
     "metadata": {
      "slideshow": {
       "slide_type": "slide"
      }
     },
     "source": [
      "#Guidebook App\n",
      "    - Live updates\n",
      "    - Live talks feedbacks\n",
      "    - Feedback form\n",
      "    - Connect with people\n",
      "    - \u2026\n"
     ]
    },
    {
     "cell_type": "markdown",
     "metadata": {
      "slideshow": {
       "slide_type": "slide"
      }
     },
     "source": [
      "#Events\n",
      "    - Pydata Track\n",
      "    - Django Girls\n",
      "    - Recruitment sessions\n",
      "    - Educational Track\n",
      "    - Local Track\n",
      "    - Sprint\n",
      "    - Open Spaces\n",
      "    - Dojos\n"
     ]
    },
    {
     "cell_type": "markdown",
     "metadata": {
      "slideshow": {
       "slide_type": "slide"
      }
     },
     "source": [
      "#Open Spaces\n",
      "    - Explain how to create your openspace talk\n"
     ]
    },
    {
     "cell_type": "markdown",
     "metadata": {
      "slideshow": {
       "slide_type": "slide"
      }
     },
     "source": [
      "#Volunteers:\n",
      "    - Become a Session chair\n",
      "    - Organization: Green T-Shirt\n",
      "    - Volunteers: Yellow shirt\n"
     ]
    },
    {
     "cell_type": "markdown",
     "metadata": {
      "slideshow": {
       "slide_type": "slide"
      }
     },
     "source": [
      "#Speakers\n",
      "    - Before their talks during coffee breaks or lunch please go to the room \n",
      "    - where their talk is going to be to test their laptops and minimize the \n",
      "    - switch between talks.\n"
     ]
    },
    {
     "cell_type": "markdown",
     "metadata": {
      "slideshow": {
       "slide_type": "slide"
      }
     },
     "source": [
      "#Loungue Areas\n",
      "    - Retro games, it cost 50 cents, will be for charity\n",
      "    - Music area?\n"
     ]
    },
    {
     "cell_type": "markdown",
     "metadata": {
      "slideshow": {
       "slide_type": "slide"
      }
     },
     "source": [
      "#REMINDERS:\n",
      "    - No food/drinks in rooms and outside the venue"
     ]
    },
    {
     "cell_type": "code",
     "collapsed": false,
     "input": [],
     "language": "python",
     "metadata": {
      "slideshow": {
       "slide_type": "slide"
      }
     },
     "outputs": []
    }
   ],
   "metadata": {}
  }
 ]
}