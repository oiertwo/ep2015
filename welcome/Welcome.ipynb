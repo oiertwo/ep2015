{
 "cells": [
  {
   "cell_type": "markdown",
   "metadata": {
    "slideshow": {
     "slide_type": "slide"
    }
   },
   "source": [
    "<div align=\"center\"> \n",
    "<h1>Welcome to </h1>\n",
    "<br>\n",
    "</div>\n",
    "<div align=\"center\">\n",
    "<img src='media/mapamundi-bilbao.jpg' width=\"100%\" />\n",
    "</div>"
   ]
  },
  {
   "cell_type": "markdown",
   "metadata": {
    "slideshow": {
     "slide_type": "subslide"
    }
   },
   "source": [
    "<div align=\"center\"> \n",
    "<h1>Welcome to </h1>\n",
    "</div>\n",
    "<div >\n",
    "<img src='media/05-Secondary Logo B.png' width=512 />\n",
    "</div>"
   ]
  },
  {
   "cell_type": "markdown",
   "metadata": {
    "slideshow": {
     "slide_type": "subslide"
    }
   },
   "source": [
    "#Ho we are\n",
    "\n",
    "##Fabio Pliger\n",
    "@fpliger\n",
    " - EPS Board member\n",
    "\n",
    "##Oier Echaniz\n",
    "@oiertwo\n",
    " - ACPySS Chair (On-site team)"
   ]
  },
  {
   "cell_type": "markdown",
   "metadata": {
    "slideshow": {
     "slide_type": "slide"
    }
   },
   "source": [
    "<div class=\"col-md-8\"> \n",
    "<h1>Attendees evolution</h1>\n",
    "</div>\n",
    "<div class=\"col-md-4\">\n",
    "<img src='media/05-Secondary Logo B.png' width=512 />\n",
    "</div>\n",
    "\n",
    "\n"
   ]
  },
  {
   "cell_type": "code",
   "execution_count": 9,
   "metadata": {
    "collapsed": false,
    "slideshow": {
     "slide_type": "skip"
    }
   },
   "outputs": [],
   "source": [
    "import matplotlib\n",
    "import numpy as np\n",
    "import matplotlib.pyplot as plt\n",
    "\n",
    "%matplotlib inline\n",
    "\n",
    "data = [('year', 'location', 'attendees'),\n",
    "       (2002, 'Charleroi', 240),\n",
    "        (2003, 'Charleroi', 300),\n",
    "        (2004, 'Göteborg', 'nan'),\n",
    "        (2005, 'Göteborg', 'nan'),\n",
    "        (2006, 'Geneva', 'nan'),\n",
    "        (2007, 'Vilnius', 'nan'),\n",
    "        (2008, 'Vilnius', 206),\n",
    "        (2009, 'Birmingham', 410),\n",
    "        (2010, 'Birmingham', 446),\n",
    "        (2011, 'Florence', 670),\n",
    "        (2012, 'Florence', 760),\n",
    "        (2013, 'Florence', 870),\n",
    "        (2014, 'Berlin', 1250),\n",
    "        (2015, 'Bilbao', 1100),]\n",
    "\n",
    "names = data[0]\n",
    "eps = {name: [] for name in names}\n",
    "for line in data[1:]:\n",
    "    for pos, name in enumerate(names):\n",
    "        eps[name].append(line[pos])\n",
    "\n"
   ]
  },
  {
   "cell_type": "code",
   "execution_count": 8,
   "metadata": {
    "collapsed": false,
    "slideshow": {
     "slide_type": "fragment"
    }
   },
   "outputs": [
    {
     "data": {
      "text/plain": [
       "[<matplotlib.lines.Line2D at 0x7f0f98f3eba8>]"
      ]
     },
     "execution_count": 8,
     "metadata": {},
     "output_type": "execute_result"
    },
    {
     "data": {
      "image/png": "[encoded data removed]",
      "text/plain": [
       "<matplotlib.figure.Figure at 0x7f0f99086be0>"
      ]
     },
     "metadata": {},
     "output_type": "display_data"
    }
   ],
   "source": [
    "plt.plot(eps['year'], eps['attendees'])"
   ]
  },
  {
   "cell_type": "markdown",
   "metadata": {
    "slideshow": {
     "slide_type": "subslide"
    }
   },
   "source": [
    "#Attendees evolution"
   ]
  },
  {
   "cell_type": "markdown",
   "metadata": {
    "slideshow": {
     "slide_type": "fragment"
    }
   },
   "source": [
    "#IN BILBAO"
   ]
  },
  {
   "cell_type": "code",
   "execution_count": 14,
   "metadata": {
    "collapsed": false,
    "slideshow": {
     "slide_type": "skip"
    }
   },
   "outputs": [],
   "source": [
    "data = [('year', 'location', 'attendees'),\n",
    "       (2014, 'Bilbao', 0),\n",
    "        (2015, 'Bilbao', 1100)]\n",
    "\n",
    "names = data[0]\n",
    "eps = {name: [] for name in names}\n",
    "for line in data[1:]:\n",
    "    for pos, name in enumerate(names):\n",
    "        eps[name].append(line[pos])\n"
   ]
  },
  {
   "cell_type": "code",
   "execution_count": 15,
   "metadata": {
    "collapsed": false,
    "slideshow": {
     "slide_type": "fragment"
    }
   },
   "outputs": [
    {
     "data": {
      "text/plain": [
       "[<matplotlib.lines.Line2D at 0x7f0f98e926d8>]"
      ]
     },
     "execution_count": 15,
     "metadata": {},
     "output_type": "execute_result"
    },
    {
     "data": {
      "image/png": "[encoded data removed]",
      "text/plain": [
       "<matplotlib.figure.Figure at 0x7f0f98f00710>"
      ]
     },
     "metadata": {},
     "output_type": "display_data"
    }
   ],
   "source": [
    "plt.plot(eps['year'], eps['attendees'])"
   ]
  },
  {
   "cell_type": "markdown",
   "metadata": {
    "slideshow": {
     "slide_type": "slide"
    }
   },
   "source": [
    "#Wifi information\n",
    "    - Password and SSID: europython2015\n",
    "    - If problem:\n",
    "        * Move through the venue to find an antenna with a empty spot\n",
    "        * there is nobody in the venue that can solve \n",
    "        \n",
    "#Cable (for emergency purpose)\n",
    "    -For speakers \n",
    "        -Only if the wifi is not working properly\n",
    "    -In the helpdesk and info desk in case of emergency\n",
    "        \n"
   ]
  },
  {
   "cell_type": "markdown",
   "metadata": {
    "slideshow": {
     "slide_type": "slide"
    }
   },
   "source": [
    "<div class=\"col-md-8\"> \n",
    "<h1>Code of conduct </h1>\n",
    "\n",
    "<ul>\n",
    "<li>Available online</li>\n",
    "<li>Not tolerate</li>\n",
    "<li>Behave properly</li>\n",
    "</ul>\n",
    "\n",
    "<h1>Enjoy the conference </h1>\n",
    "</div>\n",
    "<div class= \"col-md-4\" >\n",
    "<img src='media/coc-bsol.gif' width=\"100%\" />\n",
    "</div>\n"
   ]
  },
  {
   "cell_type": "code",
   "execution_count": 17,
   "metadata": {
    "collapsed": false
   },
   "outputs": [
    {
     "data": {
      "image/png": "media/coc-bsol.gif",
      "text/plain": [
       "<IPython.core.display.Image object>"
      ]
     },
     "execution_count": 17,
     "metadata": {},
     "output_type": "execute_result"
    }
   ],
   "source": [
    "from IPython.display import Image\n",
    "Image('media/coc-bsol.gif')"
   ]
  },
  {
   "cell_type": "markdown",
   "metadata": {
    "slideshow": {
     "slide_type": "slide"
    }
   },
   "source": [
    "#Badges\n",
    "    - Check the bags, is everything inside?\n",
    "    - Booklet, flyer, t-shirt, present… \n",
    "    - wrong t-shirt size you can switch it?\n"
   ]
  },
  {
   "cell_type": "markdown",
   "metadata": {
    "slideshow": {
     "slide_type": "slide"
    }
   },
   "source": [
    "#Schedule\n",
    "    - Check the schedule\n",
    "    - Talks\n",
    "        - 5 Parallel tracks\n",
    "    - Trainings\n",
    "        - No signing, first come first serve\n",
    "        - Big rooms\n",
    "    - Keynotes\n",
    "        - Present keynoters?\n",
    "    - Lightning talks\n",
    "        - Google room\n",
    "    - Poster session\n",
    "\n"
   ]
  },
  {
   "cell_type": "markdown",
   "metadata": {
    "slideshow": {
     "slide_type": "slide"
    }
   },
   "source": [
    "<div align=\"center\"> \n",
    "<h1>Lunch and coffee breaks areas:</h1>\n",
    "<h3>HALL at -2 Floor</h3>\n",
    "</div>\n",
    "<div >\n",
    "<img src='media/ecc_hall.png' width=\"100%\" />\n",
    "</div>\n",
    "\n"
   ]
  },
  {
   "cell_type": "markdown",
   "metadata": {
    "slideshow": {
     "slide_type": "slide"
    }
   },
   "source": [
    "#We are recording\n",
    "    - Livestreaming?...\n",
    "    - Releasing the videos ASAP\n"
   ]
  },
  {
   "cell_type": "markdown",
   "metadata": {
    "slideshow": {
     "slide_type": "slide"
    }
   },
   "source": [
    "<div class=\"col-md-8\"> \n",
    "<h1>Social event</h1>\n",
    "\n",
    "<h3> Get your ticket </h3>\n",
    "<ul>\n",
    "    <li>Registration desk on tuesday afternoon or wednesday morning</li>\n",
    "</ul>\n",
    "\n",
    "<h3> Buy your ticket </h3>\n",
    "<ul>\n",
    "    <li>Ticket still available for 40€</li>\n",
    "\n",
    "</ul>\n",
    "       <img src='media/ticket_cena.jpg' width=512 /> \n",
    "   \n",
    "</div>\n",
    "<div class=\"col-md-4\">\n",
    "\n",
    "<img src='media/pinchos night.jpg' width=512 />\n",
    "</div>\n"
   ]
  },
  {
   "cell_type": "markdown",
   "metadata": {
    "slideshow": {
     "slide_type": "slide"
    }
   },
   "source": [
    "#Guidebook App\n",
    "    - Live updates\n",
    "    - Live talks feedbacks\n",
    "    - Feedback form\n",
    "    - Connect with people\n",
    "    - …\n"
   ]
  },
  {
   "cell_type": "markdown",
   "metadata": {
    "slideshow": {
     "slide_type": "slide"
    }
   },
   "source": [
    "#Events\n",
    "    - Pydata Track (Hidden)\n",
    "    - Django Girls\n",
    "    - Recruitment sessions\n",
    "    - Educational Track\n",
    "    - Local Track\n",
    "    - Sprint\n",
    "    - Open Spaces\n",
    "    - Dojos\n",
    "    - Sponsor event - Visit their booths\n"
   ]
  },
  {
   "cell_type": "markdown",
   "metadata": {
    "slideshow": {
     "slide_type": "slide"
    }
   },
   "source": [
    "#Open Spaces\n",
    "    - Explain how to create your openspace talk\n"
   ]
  },
  {
   "cell_type": "markdown",
   "metadata": {
    "slideshow": {
     "slide_type": "slide"
    }
   },
   "source": [
    "#Volunteers:\n",
    "    - Become a Session chair\n",
    "    - Organization: Green T-Shirt\n",
    "    - Volunteers: Yellow shirt\n"
   ]
  },
  {
   "cell_type": "markdown",
   "metadata": {
    "slideshow": {
     "slide_type": "slide"
    }
   },
   "source": [
    "<div class=\"col-md-8\"> \n",
    "<h1>Speakers</h1>\n",
    "\n",
    "<h2>Before your talk during any coffee \n",
    "break or lunch please go to the room  \n",
    "where your talk is going to be to test \n",
    "your laptops and minimize the switch between talks  </h2>\n",
    "\n",
    "</div>\n",
    "<div class=\"col-md-4\">\n",
    "<img src='media/desk.png' width=512 />\n",
    "</div>\n"
   ]
  },
  {
   "cell_type": "markdown",
   "metadata": {
    "slideshow": {
     "slide_type": "slide"
    }
   },
   "source": [
    "#Loungue Areas\n",
    "    - Retro games, it cost 50 cents, will be for charity\n"
   ]
  },
  {
   "cell_type": "markdown",
   "metadata": {
    "slideshow": {
     "slide_type": "slide"
    }
   },
   "source": [
    "#REMINDERS:"
   ]
  },
  {
   "cell_type": "markdown",
   "metadata": {
    "collapsed": false,
    "slideshow": {
     "slide_type": "subslide"
    }
   },
   "source": [
    "<div align=\"center\">\n",
    "\n",
    "<h1>No food/drinks in rooms and outside the venue</h1>\n",
    "\n",
    "</div>\n",
    "\n",
    "<div align=\"center\">\n",
    "\n",
    "<img src='media/no_food_or_drink.png' width=\"100%\" />\n",
    "</div>"
   ]
  },
  {
   "cell_type": "markdown",
   "metadata": {
    "slideshow": {
     "slide_type": "slide"
    }
   },
   "source": [
    "<div align=\"center\"> \n",
    "<h1>Enjoy the conference and Bilbao</h1>\n",
    "<br>\n",
    "</div>\n",
    "<div>\n",
    "<img src='media/mapamundi-bilbao.jpg' width=\"100%\" />\n",
    "</div>"
   ]
  }
 ],
 "metadata": {
  "celltoolbar": "Slideshow",
  "kernelspec": {
   "display_name": "Python 3",
   "language": "python",
   "name": "python3"
  },
  "language_info": {
   "codemirror_mode": {
    "name": "ipython",
    "version": 3
   },
   "file_extension": ".py",
   "mimetype": "text/x-python",
   "name": "python",
   "nbconvert_exporter": "python",
   "pygments_lexer": "ipython3",
   "version": "3.4.0"
  }
 },
 "nbformat": 4,
 "nbformat_minor": 0
}
