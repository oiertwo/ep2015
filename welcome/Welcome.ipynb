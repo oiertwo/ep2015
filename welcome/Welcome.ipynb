{
 "cells": [
  {
   "cell_type": "markdown",
   "metadata": {
    "slideshow": {
     "slide_type": "slide"
    }
   },
   "source": [
    "<div align=\"center\"> \n",
    "<h1>Welcome to </h1>\n",
    "<br>\n",
    "</div>\n",
    "<div align=\"center\">\n",
    "<img src='media/mapamundi-bilbao.jpg' width=\"100%\" />\n",
    "</div>"
   ]
  },
  {
   "cell_type": "markdown",
   "metadata": {
    "slideshow": {
     "slide_type": "subslide"
    }
   },
   "source": [
    "<div align=\"center\"> \n",
    "<h1>Welcome to </h1>\n",
    "</div>\n",
    "<div >\n",
    "<img src='media/05-Secondary Logo B.png' width=512 />\n",
    "</div>"
   ]
  },
  {
   "cell_type": "markdown",
   "metadata": {
    "slideshow": {
     "slide_type": "subslide"
    }
   },
   "source": [
    "#Ho we are\n",
    "\n",
    "##Fabio Pliger\n",
    "@fpliger\n",
    " - EPS Board member\n",
    "\n",
    "##Oier Echaniz\n",
    "@oiertwo\n",
    " - ACPySS Chair (On-site team)"
   ]
  },
  {
   "cell_type": "markdown",
   "metadata": {
    "slideshow": {
     "slide_type": "slide"
    }
   },
   "source": [
    "<div class=\"col-md-8\"> \n",
    "<h1>Attendees evolution</h1>\n",
    "</div>\n",
    "<div class=\"col-md-4\">\n",
    "<img src='media/05-Secondary Logo B.png' width=512 />\n",
    "</div>\n",
    "\n",
    "\n"
   ]
  },
  {
   "cell_type": "markdown",
   "metadata": {
    "slideshow": {
     "slide_type": "slide"
    }
   },
   "source": [
    "#Wifi information\n",
    "    - Password and SSID: europython2015\n",
    "    - If problem:\n",
    "        * Move through the venue to find an antenna with a empty spot\n",
    "        * there is nobody in the venue that can solve \n",
    "        \n",
    "#Cable (for emergency purpose)\n",
    "    -For speakers \n",
    "        -Only if the wifi is not working properly\n",
    "    -In the helpdesk and info desk in case of emergency\n",
    "        \n"
   ]
  },
  {
   "cell_type": "markdown",
   "metadata": {
    "slideshow": {
     "slide_type": "slide"
    }
   },
   "source": [
    "#Code of conduct\n",
    "    - Available online, \n",
    "    - Not tolerate\n",
    "    - Behave properly\n",
    "    - Enjoy the conference\n"
   ]
  },
  {
   "cell_type": "markdown",
   "metadata": {
    "slideshow": {
     "slide_type": "slide"
    }
   },
   "source": [
    "#Badges\n",
    "    - Check the bags, is everything inside?\n",
    "    - Booklet, flyer, t-shirt, present… \n",
    "    - wrong t-shirt size you can switch it?\n"
   ]
  },
  {
   "cell_type": "markdown",
   "metadata": {
    "slideshow": {
     "slide_type": "slide"
    }
   },
   "source": [
    "#Schedule\n",
    "    - Check the schedule\n",
    "    - Talks\n",
    "        - 5 Parallel tracks\n",
    "    - Trainings\n",
    "        - No signing, first come first serve\n",
    "        - Big rooms\n",
    "    - Keynotes\n",
    "        - Present keynoters?\n",
    "    - Lightning talks\n",
    "        - Google room\n",
    "    - Poster session\n",
    "\n"
   ]
  },
  {
   "cell_type": "markdown",
   "metadata": {
    "slideshow": {
     "slide_type": "slide"
    }
   },
   "source": [
    "<div align=\"center\"> \n",
    "<h1>Lunch and coffee breaks areas:</h1>\n",
    "<h3>HALL at -2 Floor</h3>\n",
    "</div>\n",
    "<div >\n",
    "<img src='media/ecc_hall.png' width=\"100%\" />\n",
    "</div>\n",
    "\n"
   ]
  },
  {
   "cell_type": "markdown",
   "metadata": {
    "slideshow": {
     "slide_type": "slide"
    }
   },
   "source": [
    "#We are recording\n",
    "    - Livestreaming?...\n",
    "    - Releasing the videos ASAP\n"
   ]
  },
  {
   "cell_type": "markdown",
   "metadata": {
    "slideshow": {
     "slide_type": "slide"
    }
   },
   "source": [
    "<div class=\"col-md-8\"> \n",
    "<h1>Social event</h1>\n",
    "\n",
    "<h3> Get your ticket </h3>\n",
    "<ul>\n",
    "    <li>Registration desk on tuesday afternoon or wednesday morning</li>\n",
    "</ul>\n",
    "\n",
    "<h3> Buy your ticket </h3>\n",
    "<ul>\n",
    "    <li>Ticket still available for 40€</li>\n",
    "\n",
    "</ul>\n",
    "       <img src='media/ticket_cena.jpg' width=512 /> \n",
    "   \n",
    "</div>\n",
    "<div class=\"col-md-4\">\n",
    "\n",
    "<img src='media/pinchos night.jpg' width=512 />\n",
    "</div>\n"
   ]
  },
  {
   "cell_type": "markdown",
   "metadata": {
    "slideshow": {
     "slide_type": "slide"
    }
   },
   "source": [
    "#Guidebook App\n",
    "    - Live updates\n",
    "    - Live talks feedbacks\n",
    "    - Feedback form\n",
    "    - Connect with people\n",
    "    - …\n"
   ]
  },
  {
   "cell_type": "markdown",
   "metadata": {
    "slideshow": {
     "slide_type": "slide"
    }
   },
   "source": [
    "#Events\n",
    "    - Pydata Track (Hidden)\n",
    "    - Django Girls\n",
    "    - Recruitment sessions\n",
    "    - Educational Track\n",
    "    - Local Track\n",
    "    - Sprint\n",
    "    - Open Spaces\n",
    "    - Dojos\n",
    "    - Sponsor event - Visit their booths\n"
   ]
  },
  {
   "cell_type": "markdown",
   "metadata": {
    "slideshow": {
     "slide_type": "slide"
    }
   },
   "source": [
    "#Open Spaces\n",
    "    - Explain how to create your openspace talk\n"
   ]
  },
  {
   "cell_type": "markdown",
   "metadata": {
    "slideshow": {
     "slide_type": "slide"
    }
   },
   "source": [
    "#Volunteers:\n",
    "    - Become a Session chair\n",
    "    - Organization: Green T-Shirt\n",
    "    - Volunteers: Yellow shirt\n"
   ]
  },
  {
   "cell_type": "markdown",
   "metadata": {
    "slideshow": {
     "slide_type": "slide"
    }
   },
   "source": [
    "<div class=\"col-md-8\"> \n",
    "<h1>Speakers</h1>\n",
    "\n",
    "<h2>Before your talk during any coffee \n",
    "break or lunch please go to the room  \n",
    "where your talk is going to be to test \n",
    "your laptops and minimize the switch between talks  </h2>\n",
    "\n",
    "</div>\n",
    "<div class=\"col-md-4\">\n",
    "<img src='media/desk.png' width=512 />\n",
    "</div>\n"
   ]
  },
  {
   "cell_type": "markdown",
   "metadata": {
    "slideshow": {
     "slide_type": "slide"
    }
   },
   "source": [
    "#Loungue Areas\n",
    "    - Retro games, it cost 50 cents, will be for charity\n"
   ]
  },
  {
   "cell_type": "markdown",
   "metadata": {
    "slideshow": {
     "slide_type": "slide"
    }
   },
   "source": [
    "#REMINDERS:"
   ]
  },
  {
   "cell_type": "markdown",
   "metadata": {
    "collapsed": false,
    "slideshow": {
     "slide_type": "subslide"
    }
   },
   "source": [
    "<div align=\"center\">\n",
    "\n",
    "<h1>No food/drinks in rooms and outside the venue</h1>\n",
    "\n",
    "</div>\n",
    "\n",
    "<div align=\"center\">\n",
    "\n",
    "<img src='media/no_food_or_drink.png' width=\"100%\" />\n",
    "</div>"
   ]
  },
  {
   "cell_type": "markdown",
   "metadata": {
    "slideshow": {
     "slide_type": "slide"
    }
   },
   "source": [
    "<div align=\"center\"> \n",
    "<h1>Enjoy the conference and Bilbao</h1>\n",
    "<br>\n",
    "</div>\n",
    "<div>\n",
    "<img src='media/mapamundi-bilbao.jpg' width=\"100%\" />\n",
    "</div>"
   ]
  }
 ],
 "metadata": {
  "celltoolbar": "Slideshow",
  "kernelspec": {
   "display_name": "Python 3",
   "language": "python",
   "name": "python3"
  },
  "language_info": {
   "codemirror_mode": {
    "name": "ipython",
    "version": 3
   },
   "file_extension": ".py",
   "mimetype": "text/x-python",
   "name": "python",
   "nbconvert_exporter": "python",
   "pygments_lexer": "ipython3",
   "version": "3.4.0"
  }
 },
 "nbformat": 4,
 "nbformat_minor": 0
}
