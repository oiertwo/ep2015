{
 "cells": [
  {
   "cell_type": "markdown",
   "metadata": {},
   "source": [
    "#Karakate magaletik"
   ]
  },
  {
   "cell_type": "markdown",
   "metadata": {},
   "source": [
    "#Zergatik Python\n",
    "\n",
    "- ADAn ikasi \n",
    "- JAVAn garatu\n",
    "- R-rekin nerabean\n",
    "- Python-ekin gaur egun R-rekin batera"
   ]
  },
  {
   "cell_type": "markdown",
   "metadata": {},
   "source": [
    "#Python ezagutzen\n",
    "\n",
    "- R erabili"
   ]
  },
  {
   "cell_type": "markdown",
   "metadata": {},
   "source": [
    "#EuroPython 2014 eta pydata berlin 2014\n",
    "\n",
    "- Python habeto ezagutzeko egindako bidai bat\n",
    "- Bertan R utzi eta python erabilitzeko asmoa"
   ]
  },
  {
   "cell_type": "markdown",
   "metadata": {},
   "source": [
    "#Konferentziaren emaitza:\n",
    "\n",
    "- Jende asko ezagutu genuen\n",
    "- Berlin ezagutu genuen\n",
    "- Hitzaldi gehiegi\n",
    "    - Burua \n",
    "- Janari eskasa"
   ]
  },
  {
   "cell_type": "markdown",
   "metadata": {},
   "source": [
    "#Gure ondorioa: guk konferentzia hobe bat antola dezakegu\n",
    "\n",
    "Datuak:\n",
    "- Uztaila bukaera zen\n",
    "\n",
    "Irail bukaeran 3 eguneko konferentzia antolatu genuen 3 \"keynote\" hitzaldirekin eta jende internazionala ekarri genuen kongresura, nazioarteko jendearekin batera. \n",
    "Denera 20 bat hitzaldi izan ziren. 40 bat pertsona batu ginen denera.\n"
   ]
  },
  {
   "cell_type": "markdown",
   "metadata": {},
   "source": [
    "Gu unibertsitatean gaude eta akademian ezarri ditzazkegun pautak gero garrantzitsuak dira  enpresentzako. Baina akademia ere fijatzen da enpresak zer erabiltzen beraien aukeraketa egiteko. Ondorioz elkarteak eta kongresuak informazioa elkarbanatzeko edo behintzak jakiteko zer egiten gauden elkar garrantztsuak dira. Horretarako hari gara buru belarri lanean gure elkartean eta horregatik saiatu gara gogor denon artean EuroPython 2015 Bilbora ekartzera. "
   ]
  },
  {
   "cell_type": "code",
   "execution_count": null,
   "metadata": {
    "collapsed": true
   },
   "outputs": [],
   "source": []
  }
 ],
 "metadata": {
  "kernelspec": {
   "display_name": "Python 3",
   "language": "python",
   "name": "python3"
  },
  "language_info": {
   "codemirror_mode": {
    "name": "ipython",
    "version": 3
   },
   "file_extension": ".py",
   "mimetype": "text/x-python",
   "name": "python",
   "nbconvert_exporter": "python",
   "pygments_lexer": "ipython3",
   "version": "3.4.0"
  }
 },
 "nbformat": 4,
 "nbformat_minor": 0
}
